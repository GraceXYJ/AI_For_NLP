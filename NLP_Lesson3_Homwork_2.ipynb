{
 "cells": [
  {
   "cell_type": "markdown",
   "metadata": {},
   "source": [
    "2. Answer following questions:"
   ]
  },
  {
   "cell_type": "markdown",
   "metadata": {},
   "source": [
    "1. Why we need machine learning methods instead of creating a complicated formula?\n",
    "Ans:机器学习可以通过数据来生成模型，不需要费大量脑力建复杂的模型，并且一些复杂的问题不通过机器学习的方法也不一定能建立出相对准确的模型。\n",
    "\n",
    "2. Wha't's the disadvantages of the 1st Random Choosen methods in our course?\n",
    "Ans:随机选择方法不能保证每次选择的方向都是对的，需要尝试的次数多，计算速度慢。\n",
    "\n",
    "3. Is the 2nd method supervised direction better than 1st one? What's the disadvantages of the 2nd supversied directin method?\n",
    "Ans:是；第二种方法是有监督的学习，在方向选择上没有第一种方法那么随意，但是它只是让你不会沿着已知错误的方向进行，但再次选择的方向也不能保证一定是对的。\n",
    "\n",
    "4. Why do we use Derivative / Gredient to fit a target function?\n",
    "Ans:因为他描述了函数随着自变量的变化而变化的程度。\n",
    "\n",
    "5. In the words 'Gredient Descent', what's the Gredient and what's the Descent?\n",
    "Ans:梯度、下降。\n",
    "\n",
    "6. What's the advantages of the 3rd gradient descent method compared to the previous methods?\n",
    "Ans:运用第三种方法相比前两种方法能够保证方向正确，且优化速度快。\n",
    "\n",
    "7. Using the simple words to describe: What's the machine leanring.¶\n",
    "Ans:让计算机根据已有的数据建立一个模型，这个模型具有一定的推广能力，在一定程度上能够适应未知的数据。"
   ]
  }
 ],
 "metadata": {
  "kernelspec": {
   "display_name": "Python 3",
   "language": "python",
   "name": "python3"
  },
  "language_info": {
   "codemirror_mode": {
    "name": "ipython",
    "version": 3
   },
   "file_extension": ".py",
   "mimetype": "text/x-python",
   "name": "python",
   "nbconvert_exporter": "python",
   "pygments_lexer": "ipython3",
   "version": "3.7.1"
  }
 },
 "nbformat": 4,
 "nbformat_minor": 2
}
